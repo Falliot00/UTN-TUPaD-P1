{
  "nbformat": 4,
  "nbformat_minor": 0,
  "metadata": {
    "colab": {
      "provenance": []
    },
    "kernelspec": {
      "name": "python3",
      "display_name": "Python 3"
    },
    "language_info": {
      "name": "python"
    }
  },
  "cells": [
    {
      "cell_type": "markdown",
      "source": [
        "<h2>\n",
        "<font color=\"#ffcc01\">\n",
        "<b>\n",
        "PROGRAMACIÓN 1\n",
        "</b>\n",
        "</font>\n",
        "</h2>\n",
        "\n",
        "\n",
        "<h3>\n",
        "<font color=\"#ffcc01\">\n",
        "<b>\n",
        "Trabajo práctico 6: Estructuras de datos complejas\n",
        "</b>\n",
        "</font>\n",
        "</h3>\n",
        "\n"
      ],
      "metadata": {
        "id": "7_ZiBXbIjC-j"
      }
    },
    {
      "cell_type": "markdown",
      "source": [
        "#### **Ejercicio 1**\n",
        "\n",
        "Dado el diccionario precios_frutas\n",
        "\n",
        "\n",
        "```\n",
        "precios_frutas = {'Banana': 1200, 'Ananá': 2500, 'Melón': 3000, 'Uva': 1450}\n",
        "```\n",
        "\n",
        "Añadir las siguientes frutas con sus respectivos precios:\n",
        "\n",
        "* Naranja = 1200\n",
        "* Manzana = 1500\n",
        "* Pera = 2300"
      ],
      "metadata": {
        "id": "VhsV1UbnwIkL"
      }
    },
    {
      "cell_type": "code",
      "execution_count": null,
      "metadata": {
        "colab": {
          "base_uri": "https://localhost:8080/"
        },
        "id": "GIEvgGkZv7YB",
        "outputId": "5860abba-361d-406d-a4e9-3a3f0a9f7f79"
      },
      "outputs": [
        {
          "output_type": "stream",
          "name": "stdout",
          "text": [
            "{'Banana': 1200, 'Ananá': 2500, 'Melón': 3000, 'Uva': 1450}\n"
          ]
        }
      ],
      "source": [
        "# Creamos el diccionado proporcionado en el enunciado\n",
        "precios_frutas = {'Banana': 1200, 'Ananá': 2500, 'Melón': 3000, 'Uva': 1450}\n",
        "\n",
        "# Imprimimos el diccionario original\n",
        "print(precios_frutas)"
      ]
    },
    {
      "cell_type": "code",
      "source": [
        "# Agregamos, una a una, las frutas nuevas\n",
        "# Como estas keys no existen en el diccionario, se añadirán\n",
        "precios_frutas[\"Naranja\"] = 1200\n",
        "precios_frutas[\"Manzana\"] = 1500\n",
        "precios_frutas[\"Pera\"] = 2300\n",
        "\n",
        "# Imprimimos la nueva versión del diccionario\n",
        "print(precios_frutas)"
      ],
      "metadata": {
        "colab": {
          "base_uri": "https://localhost:8080/"
        },
        "id": "hMefqXmcaxeX",
        "outputId": "df262db1-c441-4287-b969-1c94e9be8fee"
      },
      "execution_count": null,
      "outputs": [
        {
          "output_type": "stream",
          "name": "stdout",
          "text": [
            "{'Banana': 1200, 'Ananá': 2500, 'Melón': 3000, 'Uva': 1450, 'Naranja': 1200, 'Manzana': 1500, 'Pera': 2300}\n"
          ]
        }
      ]
    },
    {
      "cell_type": "markdown",
      "source": [
        "#### **Ejercicio 2**\n",
        "\n",
        "Siguiendo con el diccionario precios_frutas que resulta luego de ejecutar el código desarrollado en el punto anterior, actualizar los precios de las siguientes frutas:\n",
        "* Banana = 1330\n",
        "* Manzana = 1700\n",
        "* Melón = 2800"
      ],
      "metadata": {
        "id": "ldvCi822wPWE"
      }
    },
    {
      "cell_type": "code",
      "source": [
        "# Modificamos, uno a uno, los precios de las frutas\n",
        "# Como estas keys ya existen en el diccionario, se modificarán\n",
        "precios_frutas[\"Banana\"] = 1330\n",
        "precios_frutas[\"Manzana\"] = 1700\n",
        "precios_frutas[\"Melón\"] = 2800\n",
        "\n",
        "# Imprimimos la nueva versión del diccionario\n",
        "print(precios_frutas)"
      ],
      "metadata": {
        "colab": {
          "base_uri": "https://localhost:8080/"
        },
        "id": "okOnGVOiwTDf",
        "outputId": "ef89574a-abd1-43e9-9f30-1df6252f08d5"
      },
      "execution_count": null,
      "outputs": [
        {
          "output_type": "stream",
          "name": "stdout",
          "text": [
            "{'Banana': 1330, 'Ananá': 2500, 'Melón': 2800, 'Uva': 1450, 'Naranja': 1200, 'Manzana': 1700, 'Pera': 2300}\n"
          ]
        }
      ]
    },
    {
      "cell_type": "markdown",
      "source": [
        "#### **Ejercicio 3**\n",
        "\n",
        "Siguiendo con el diccionario precios_frutas que resulta luego de ejecutar el código desarrollado en el punto anterior, obtener únicamente las frutas sin los precios."
      ],
      "metadata": {
        "id": "wDEL_sj9xP5J"
      }
    },
    {
      "cell_type": "code",
      "source": [
        "# Las frutas son las keys del diccionario, por lo que podemos obtenerlas con el método .keys()\n",
        "frutas = precios_frutas.keys()\n",
        "\n",
        "# Imprimimos el resultado\n",
        "print(frutas)"
      ],
      "metadata": {
        "id": "fje1uTu1xTA-",
        "colab": {
          "base_uri": "https://localhost:8080/"
        },
        "outputId": "d0bf8462-1398-4eef-a0c1-fcf4fc333c0a"
      },
      "execution_count": null,
      "outputs": [
        {
          "output_type": "stream",
          "name": "stdout",
          "text": [
            "dict_keys(['Banana', 'Ananá', 'Melón', 'Uva', 'Naranja', 'Manzana', 'Pera'])\n"
          ]
        }
      ]
    },
    {
      "cell_type": "code",
      "source": [
        "# Como vemos, la estructura obtenida no es una lista nativa de Python\n",
        "# Sin embargo, podemos convertirla a lista usando la función list()\n",
        "\n",
        "frutas = list(frutas)\n",
        "\n",
        "print(frutas)"
      ],
      "metadata": {
        "colab": {
          "base_uri": "https://localhost:8080/"
        },
        "id": "qoMuTo3Hbq0t",
        "outputId": "5a4344fb-7ab3-49b4-86e3-2434b40d5ca8"
      },
      "execution_count": null,
      "outputs": [
        {
          "output_type": "stream",
          "name": "stdout",
          "text": [
            "['Banana', 'Ananá', 'Melón', 'Uva', 'Naranja', 'Manzana', 'Pera']\n"
          ]
        }
      ]
    },
    {
      "cell_type": "markdown",
      "source": [
        "#### **Ejercicio 4**\n",
        "\n",
        "Crear una clase llamada Persona que contenga un método __init__ con los atributos nombre, pais y edad y el método saludar. El método saludar debe imprimir por pantalla un mensaje de salud que siga la estructura \"¡Hola! Soy [nombre], vivo en [pais] y tengo [edad] años.\""
      ],
      "metadata": {
        "id": "FbOKjXEexVAD"
      }
    },
    {
      "cell_type": "code",
      "source": [
        "# Creamos la clase persona\n",
        "class Persona:\n",
        "  # Creamos el método init con los atributos nombre, pais y edad\n",
        "  def __init__(self, nombre, pais, edad):\n",
        "    self.nombre = nombre\n",
        "    self.pais = pais\n",
        "    self.edad = edad\n",
        "\n",
        "  # Creamos el método saludar con las instrucciones del enunciado\n",
        "  def saludar(self):\n",
        "    print(f\"¡Hola! Soy {self.nombre}, vivo en {self.pais} y tengo {self.edad} años.\")"
      ],
      "metadata": {
        "id": "Vzn_ojNVxZHV"
      },
      "execution_count": null,
      "outputs": []
    },
    {
      "cell_type": "code",
      "source": [
        "# Instanciamos el objeto lionel_messi a partir de la clase Persona\n",
        "lionel_messi = Persona(\"Lionel\", \"EEUU\", \"37\")\n",
        "\n",
        "# Llamamos al método saludar desde el objeto lionel_messi\n",
        "lionel_messi.saludar()"
      ],
      "metadata": {
        "colab": {
          "base_uri": "https://localhost:8080/"
        },
        "id": "sbBVpt51csr1",
        "outputId": "aa5f8d1e-d8b7-46b2-c6dc-9aa10e2eefc8"
      },
      "execution_count": null,
      "outputs": [
        {
          "output_type": "stream",
          "name": "stdout",
          "text": [
            "¡Hola! Soy Lionel, vivo en EEUU y tengo 37 años.\n"
          ]
        }
      ]
    },
    {
      "cell_type": "markdown",
      "source": [
        "#### **Ejercicio 5**\n",
        "\n",
        "Crear una clase llamada Circulo que contenga el atributo radio y los métodos calcular_area y calcular_perimetro. Dichos métodos deben calcular el parámetro correspondiente.\n",
        "\n",
        "*Ayuda: el módulo math puede ser de utilidad para usar la constante 𝜋.*\n"
      ],
      "metadata": {
        "id": "5a4UC4xNxmut"
      }
    },
    {
      "cell_type": "code",
      "source": [
        "# Importamos el valor de pi desde el módulo math\n",
        "from math import pi\n",
        "\n",
        "# Creamso la clase circulo\n",
        "class Circulo:\n",
        "  # Creamos el método init el atributo radio\n",
        "  def __init__(self, radio):\n",
        "    self.radio = radio\n",
        "\n",
        "  # Creamos el método calcular_area\n",
        "  def calcular_area(self):\n",
        "    area_circulo = round(pi * self.radio * self.radio, 2)\n",
        "    return area_circulo\n",
        "\n",
        "  # Creamos el método calcular_perimetro\n",
        "  def calcular_perimetro(self):\n",
        "    perimetro_circulo = round(2 * pi * self.radio, 2)\n",
        "    return perimetro_circulo"
      ],
      "metadata": {
        "id": "tkh4zwFHxrMa"
      },
      "execution_count": null,
      "outputs": []
    },
    {
      "cell_type": "code",
      "source": [
        "# Instanciamos el objeto circulo_6 a partir de la clase Circulo\n",
        "circulo_6 = Circulo(6)\n",
        "\n",
        "# Llamamos al método calcular_area del objeto circulo_6\n",
        "print(circulo_6.calcular_area())"
      ],
      "metadata": {
        "colab": {
          "base_uri": "https://localhost:8080/"
        },
        "id": "zV4j9XFwjIHo",
        "outputId": "ecd5cfa7-c06e-4a89-9fbe-79b3507aa6bf"
      },
      "execution_count": null,
      "outputs": [
        {
          "output_type": "stream",
          "name": "stdout",
          "text": [
            "113.1\n"
          ]
        }
      ]
    },
    {
      "cell_type": "code",
      "source": [
        "# Llamamos al método calcular_perimetro del objeto circulo_6\n",
        "\n",
        "print(circulo_6.calcular_perimetro())"
      ],
      "metadata": {
        "colab": {
          "base_uri": "https://localhost:8080/"
        },
        "id": "Y0IKvWiijUsV",
        "outputId": "979c3821-91eb-4217-a7a4-255eed3a3ff9"
      },
      "execution_count": null,
      "outputs": [
        {
          "output_type": "stream",
          "name": "stdout",
          "text": [
            "37.7\n"
          ]
        }
      ]
    },
    {
      "cell_type": "markdown",
      "source": [
        "#### **Ejercicio 6**\n",
        "\n",
        "Dado un string con paréntesis \"()\", \"{}\", \"[]\", verifica si están correctamente balanceados usando una pila.\n",
        "\n",
        "Ejemplo de entrada y salida:\n",
        "```\n",
        "balanceado(\"({[]})\") → True  \n",
        "balanceado(\"({[})\") → False\n",
        "```\n"
      ],
      "metadata": {
        "id": "Ryfani-Rug5V"
      }
    },
    {
      "cell_type": "code",
      "source": [
        "def balanceado(expresion):\n",
        "    pila = []\n",
        "    pares = {')': '(', '}': '{', ']': '['}\n",
        "\n",
        "    for caracter in expresion:\n",
        "        if caracter in \"({[\":\n",
        "            pila.append(caracter)\n",
        "        elif caracter in \")}]\":\n",
        "            if not pila or pila.pop() != pares[caracter]:\n",
        "                return False\n",
        "\n",
        "    return len(pila) == 0\n",
        "\n",
        "# 🚀 Probamos la función\n",
        "print(balanceado(\"({[]})\"))  # Salida: True\n",
        "print(balanceado(\"({[})\"))   # Salida: False"
      ],
      "metadata": {
        "id": "vxFZeYfwuwKa"
      },
      "execution_count": null,
      "outputs": []
    },
    {
      "cell_type": "markdown",
      "source": [
        "#### **Ejercicio 7**\n",
        "\n",
        "Usa una cola para simular un sistema de turnos en un banco. La cola debe permitir:\n",
        "\n",
        "* Agregar clientes (encolar).\n",
        "* Atender clientes (desencolar).\n",
        "* Mostrar el siguiente cliente en la fila."
      ],
      "metadata": {
        "id": "p84MCEhbuxVT"
      }
    },
    {
      "cell_type": "code",
      "source": [
        "from collections import deque\n",
        "\n",
        "class ColaBanco:\n",
        "    def __init__(self):\n",
        "        self.cola = deque()\n",
        "\n",
        "    def encolar(self, cliente):\n",
        "        self.cola.append(cliente)\n",
        "\n",
        "    def desencolar(self):\n",
        "        return self.cola.popleft() if self.cola else \"No hay clientes\"\n",
        "\n",
        "    def siguiente_cliente(self):\n",
        "        return self.cola[0] if self.cola else \"No hay clientes\"\n",
        "\n",
        "# 🚀 Simulamos la atención en el banco\n",
        "banco = ColaBanco()\n",
        "banco.encolar(\"Cliente 1\")\n",
        "banco.encolar(\"Cliente 2\")\n",
        "print(banco.siguiente_cliente())  # Salida: Cliente 1\n",
        "print(banco.desencolar())         # Salida: Cliente 1\n",
        "print(banco.desencolar())         # Salida: Cliente 2\n",
        "print(banco.desencolar())         # Salida: No hay clientes"
      ],
      "metadata": {
        "id": "nWaf9zVOu41B"
      },
      "execution_count": null,
      "outputs": []
    },
    {
      "cell_type": "markdown",
      "source": [
        "#### **Ejercicio 8**\n",
        "\n",
        "Crea una lista enlazada que permita insertar nodos al inicio y recorrer la lista para mostrar los valores almacenados."
      ],
      "metadata": {
        "id": "Jj3e9KHFu9bE"
      }
    },
    {
      "cell_type": "code",
      "source": [
        "class Nodo:\n",
        "    def __init__(self, dato):\n",
        "        self.dato = dato\n",
        "        self.siguiente = None\n",
        "\n",
        "class ListaEnlazada:\n",
        "    def __init__(self):\n",
        "        self.cabeza = None\n",
        "\n",
        "    def insertar(self, dato):\n",
        "        nuevo_nodo = Nodo(dato)\n",
        "        nuevo_nodo.siguiente = self.cabeza\n",
        "        self.cabeza = nuevo_nodo\n",
        "\n",
        "    def mostrar(self):\n",
        "        actual = self.cabeza\n",
        "        while actual:\n",
        "            print(actual.dato, end=\" -> \")\n",
        "            actual = actual.siguiente\n",
        "        print(\"None\")\n",
        "\n",
        "# 🚀 Probamos la lista enlazada\n",
        "lista = ListaEnlazada()\n",
        "lista.insertar(3)\n",
        "lista.insertar(2)\n",
        "lista.insertar(1)\n",
        "lista.mostrar()  # Salida: 1 -> 2 -> 3 -> None"
      ],
      "metadata": {
        "id": "WbXo0YIyvEPd"
      },
      "execution_count": null,
      "outputs": []
    },
    {
      "cell_type": "markdown",
      "source": [
        "#### **Ejercicio 9**\n",
        "\n",
        "Dada una lista enlazada, implementa una función para invertirla.\n",
        "\n",
        "Ejemplo de entrada y salida:\n",
        "```\n",
        "Lista original: 1 -> 2 -> 3 -> None  \n",
        "Lista invertida: 3 -> 2 -> 1 -> None  \n",
        "```"
      ],
      "metadata": {
        "id": "IBJlt4vbvGjW"
      }
    },
    {
      "cell_type": "code",
      "source": [
        "class ListaEnlazada:\n",
        "    def __init__(self):\n",
        "        self.cabeza = None\n",
        "\n",
        "    def insertar(self, dato):\n",
        "        nuevo_nodo = Nodo(dato)\n",
        "        nuevo_nodo.siguiente = self.cabeza\n",
        "        self.cabeza = nuevo_nodo\n",
        "\n",
        "    def mostrar(self):\n",
        "        actual = self.cabeza\n",
        "        while actual:\n",
        "            print(actual.dato, end=\" -> \")\n",
        "            actual = actual.siguiente\n",
        "        print(\"None\")\n",
        "\n",
        "    def invertir(self):\n",
        "        prev = None\n",
        "        actual = self.cabeza\n",
        "        while actual:\n",
        "            siguiente = actual.siguiente\n",
        "            actual.siguiente = prev\n",
        "            prev = actual\n",
        "            actual = siguiente\n",
        "        self.cabeza = prev\n",
        "\n",
        "# 🚀 Probamos la inversión de la lista\n",
        "lista = ListaEnlazada()\n",
        "lista.insertar(3)\n",
        "lista.insertar(2)\n",
        "lista.insertar(1)\n",
        "print(\"Lista original:\")\n",
        "lista.mostrar()\n",
        "lista.invertir()\n",
        "print(\"Lista invertida:\")\n",
        "lista.mostrar()"
      ],
      "metadata": {
        "id": "23VFv4Y2vRtI"
      },
      "execution_count": null,
      "outputs": []
    }
  ]
}